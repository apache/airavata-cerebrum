{
 "cells": [
  {
   "cell_type": "code",
   "execution_count": 1,
   "id": "9589784c-d306-4606-8d0e-535d4ac219c4",
   "metadata": {},
   "outputs": [],
   "source": [
    "%load_ext autoreload\n",
    "%autoreload 2 "
   ]
  },
  {
   "cell_type": "code",
   "execution_count": 2,
   "id": "2e0db3b6-b61c-47a1-98e3-59d62b15d708",
   "metadata": {},
   "outputs": [],
   "source": [
    "import json\n",
    "import jsonpath\n",
    "import traitlets\n",
    "import ipywidgets\n",
    "import ipytree\n",
    "import logging"
   ]
  },
  {
   "cell_type": "code",
   "execution_count": 24,
   "id": "0bf7073c-ede2-44ca-8195-7cb2cc7b053c",
   "metadata": {},
   "outputs": [],
   "source": [
    "import v1l4\n",
    "import v1l4_view\n",
    "model_dex = v1l4.v1l4_model_desc(config_files={\"config\": \"config.json\", \"templates\": \"config_template.json\"})\n",
    "config_template =  v1l4_view.get_model_template()\n"
   ]
  },
  {
   "cell_type": "code",
   "execution_count": 23,
   "id": "e880260b-0462-4c95-99ba-cf5260e1d125",
   "metadata": {},
   "outputs": [
    {
     "data": {
      "application/vnd.jupyter.widget-view+json": {
       "model_id": "1b517ac7ead540abbabe7a1c2e29bac9",
       "version_major": 2,
       "version_minor": 0
      },
      "text/plain": [
       "TwoByTwoLayout(children=(Tree(layout=Layout(grid_area='top-left', width='40%'), multiple_selection=False, node…"
      ]
     },
     "execution_count": 23,
     "metadata": {},
     "output_type": "execute_result"
    }
   ],
   "source": [
    "import v1l4_view\n",
    "#\n",
    "dsrc_views = {}\n",
    "for qx, dctx in config_template.get_template().items():\n",
    "    # print(\"Initializing Panels for \", qx)\n",
    "    dsrc_views[qx] = v1l4_view.QXTemplateView(dctx)\n",
    "dbxc = model_dex.config.get_config(\"source_data\")\n",
    "tree = v1l4_view.source_data_tree(dbxc)\n",
    "tree.layout.width = '40%' \n",
    "full_panel = ipywidgets.TwoByTwoLayout(top_left=tree, bottom_right=None)\n",
    "#\n",
    "def tree_update(change):\n",
    "    new_val = change[\"new\"]\n",
    "    if not len(new_val):\n",
    "        return\n",
    "    logging.getLogger(\"tree-update\").warning(\"Key : \" + new_val[0].node_key)\n",
    "    node_key = new_val[0].node_key\n",
    "    if node_key in dsrc_views:\n",
    "        logging.getLogger(\"tree-update\").warning(\"Key in Panel \")\n",
    "        rview = dsrc_views[node_key]\n",
    "        full_panel.bottom_right = rview.panel\n",
    "tree.observe(tree_update, names='selected_nodes')\n",
    "full_panel"
   ]
  },
  {
   "cell_type": "code",
   "execution_count": 29,
   "id": "60d3edbe-1602-4742-b308-05b669d4bb34",
   "metadata": {},
   "outputs": [
    {
     "data": {
      "application/vnd.jupyter.widget-view+json": {
       "model_id": "da97c65679d54394ae95dc373ef7ebf0",
       "version_major": 2,
       "version_minor": 0
      },
      "text/plain": [
       "TwoByTwoLayout(children=(Tree(layout=Layout(grid_area='top-left', width='40%'), multiple_selection=False, node…"
      ]
     },
     "execution_count": 29,
     "metadata": {},
     "output_type": "execute_result"
    }
   ],
   "source": [
    "d2m_map = model_dex.config.get_config(\"data2model_map\")\n",
    "loc_views = {}\n",
    "for qx, dctx in config_template.get_template().items():\n",
    "    # print(\"Initializing Panels for \", qx)\n",
    "    loc_views[qx] = v1l4_view.QXTemplateView(dctx)\n",
    "d2m_tree = v1l4_view.d2m_map_loc_tree(d2m_map)\n",
    "d2m_tree.layout.width = '40%' \n",
    "d2m_full_panel = ipywidgets.TwoByTwoLayout(top_left=d2m_tree, bottom_right=None)\n",
    "#\n",
    "def d2m_tree_update(change):\n",
    "    new_val = change[\"new\"]\n",
    "    if not len(new_val):\n",
    "        return\n",
    "    logging.getLogger(\"tree-update\").warning(\"Key : [%s]\", new_val[0].cell_type)\n",
    "    node_key = new_val[0].node_key\n",
    "    if node_key in loc_views:\n",
    "        logging.getLogger(\"tree-update\").warning(\"Key in Panel \")\n",
    "        rview = loc_views[node_key]\n",
    "        d2m_full_panel.bottom_right = rview.panel\n",
    "d2m_tree.observe(d2m_tree_update, names='selected_nodes')\n",
    "d2m_full_panel"
   ]
  },
  {
   "cell_type": "code",
   "execution_count": 11,
   "id": "550df484-4d32-4215-854f-806e31819a54",
   "metadata": {},
   "outputs": [
    {
     "data": {
      "text/plain": [
       "dict_keys(['locations', 'connections'])"
      ]
     },
     "execution_count": 11,
     "metadata": {},
     "output_type": "execute_result"
    }
   ],
   "source": [
    "d2m_map.keys()"
   ]
  },
  {
   "cell_type": "code",
   "execution_count": null,
   "id": "bb06abd1-95ef-4284-842e-6bf43b88b302",
   "metadata": {},
   "outputs": [],
   "source": []
  }
 ],
 "metadata": {
  "kernelspec": {
   "display_name": "Python 3 (ipykernel)",
   "language": "python",
   "name": "python3"
  },
  "language_info": {
   "codemirror_mode": {
    "name": "ipython",
    "version": 3
   },
   "file_extension": ".py",
   "mimetype": "text/x-python",
   "name": "python",
   "nbconvert_exporter": "python",
   "pygments_lexer": "ipython3",
   "version": "3.10.14"
  }
 },
 "nbformat": 4,
 "nbformat_minor": 5
}
