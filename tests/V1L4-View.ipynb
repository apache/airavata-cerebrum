{
 "cells": [
  {
   "cell_type": "code",
   "execution_count": 1,
   "id": "50f01d4a-2dd9-4a5b-bcee-3f87d85ea8ce",
   "metadata": {},
   "outputs": [],
   "source": [
    "%load_ext autoreload\n",
    "%autoreload 2 "
   ]
  },
  {
   "cell_type": "code",
   "execution_count": 65,
   "id": "cc1e02e6-1cd2-41df-973c-54d8b8b7305d",
   "metadata": {},
   "outputs": [],
   "source": [
    "import json\n",
    "import jsonpath\n",
    "import traitlets\n",
    "import ipywidgets\n",
    "import ipytree\n",
    "import logging"
   ]
  },
  {
   "cell_type": "code",
   "execution_count": 115,
   "id": "013e88c2-14a4-4f42-a1f1-8ad1cf1f2168",
   "metadata": {},
   "outputs": [
    {
     "name": "stderr",
     "output_type": "stream",
     "text": [
      "INFO:airavata_cerebrum.atlas.log.logging:Processing xformers for db airavata_cerebrum.atlas.data.abm_celltypes\n",
      "INFO:airavata_cerebrum.atlas.log.logging:Running XFormer : airavata_cerebrum.atlas.data.abm_celltypes.CTModelNameFilter\n",
      "INFO:airavata_cerebrum.atlas.log.logging:Completed XForm : airavata_cerebrum.atlas.data.abm_celltypes.CTModelNameFilter\n",
      "INFO:airavata_cerebrum.atlas.log.logging:Running XFormer : airavata_cerebrum.atlas.data.abm_celltypes.CTExplainedRatioFilter\n",
      "INFO:airavata_cerebrum.atlas.log.logging:Completed XForm : airavata_cerebrum.atlas.data.abm_celltypes.CTExplainedRatioFilter\n",
      "INFO:airavata_cerebrum.atlas.log.logging:Completed processing xformers for db airavata_cerebrum.atlas.data.abm_celltypes\n",
      "INFO:airavata_cerebrum.atlas.log.logging:Processing xformers for db airavata_cerebrum.atlas.data.abc_mouse\n",
      "INFO:airavata_cerebrum.atlas.log.logging:Running XFormer : airavata_cerebrum.atlas.data.abc_mouse.ABCDbMERFISH_CCFLayerRegionFilter\n",
      "INFO:airavata_cerebrum.atlas.log.logging:Completed XForm : airavata_cerebrum.atlas.data.abc_mouse.ABCDbMERFISH_CCFLayerRegionFilter\n",
      "INFO:airavata_cerebrum.atlas.log.logging:Completed processing xformers for db airavata_cerebrum.atlas.data.abc_mouse\n"
     ]
    }
   ],
   "source": [
    "import v1l4\n",
    "model_dex = v1l4.v1l4_model_desc(config_files={\"config\": \"config_template.json\", \"config_template\": \"config_template.json\"})\n",
    "model_dex.model_config.get_config(\"db_xform\")['airavata_cerebrum.atlas.data.abm_celltypes']['workflow']\n",
    "xdb_output = model_dex.xform_db_data()\n",
    "model_dex2 = v1l4.v1l4_model_desc(config_files={\"config\": \"config.json\", \"config_template\": \"config_template.json\"})\n",
    "model_dex2.model_config.get_config(\"db_xform\")['airavata_cerebrum.atlas.data.abm_celltypes']['workflow']\n",
    "xdb_output2 = model_dex2.xform_db_data()"
   ]
  },
  {
   "cell_type": "code",
   "execution_count": 116,
   "id": "94504512-a31e-4537-a5bf-11edb941daa1",
   "metadata": {},
   "outputs": [
    {
     "name": "stderr",
     "output_type": "stream",
     "text": [
      "INFO:airavata_cerebrum.atlas.log.logging:Processing xformers for db airavata_cerebrum.atlas.data.abm_celltypes\n",
      "INFO:airavata_cerebrum.atlas.log.logging:Running XFormer : airavata_cerebrum.atlas.data.json_filter.IterJPatchFilter\n",
      "INFO:airavata_cerebrum.atlas.log.logging:Completed XForm : airavata_cerebrum.atlas.data.json_filter.IterJPatchFilter\n",
      "INFO:airavata_cerebrum.atlas.log.logging:Running XFormer : airavata_cerebrum.atlas.data.json_filter.IterJPatchFilter\n",
      "INFO:airavata_cerebrum.atlas.log.logging:Completed XForm : airavata_cerebrum.atlas.data.json_filter.IterJPatchFilter\n",
      "INFO:airavata_cerebrum.atlas.log.logging:Running XFormer : airavata_cerebrum.atlas.data.json_filter.IterJPointerFilter\n",
      "INFO:airavata_cerebrum.atlas.log.logging:Completed XForm : airavata_cerebrum.atlas.data.json_filter.IterJPointerFilter\n",
      "INFO:airavata_cerebrum.atlas.log.logging:Completed processing xformers for db airavata_cerebrum.atlas.data.abm_celltypes\n",
      "INFO:airavata_cerebrum.atlas.log.logging:Processing xformers for db airavata_cerebrum.atlas.data.abc_mouse\n",
      "INFO:airavata_cerebrum.atlas.log.logging:Running XFormer : airavata_cerebrum.atlas.data.json_filter.JPointerFilter\n",
      "INFO:airavata_cerebrum.atlas.log.logging:Completed XForm : airavata_cerebrum.atlas.data.json_filter.JPointerFilter\n",
      "INFO:airavata_cerebrum.atlas.log.logging:Completed processing xformers for db airavata_cerebrum.atlas.data.abc_mouse\n"
     ]
    }
   ],
   "source": []
  },
  {
   "cell_type": "code",
   "execution_count": 117,
   "id": "c049af22-e26c-4c45-b2a2-0e119a430dd9",
   "metadata": {},
   "outputs": [
    {
     "name": "stdout",
     "output_type": "stream",
     "text": [
      "airavata_cerebrum.atlas.data.abm_celltypes 457\n",
      "airavata_cerebrum.atlas.data.abc_mouse 1\n",
      "airavata_cerebrum.atlas.data.abm_celltypes 132\n",
      "airavata_cerebrum.atlas.data.abc_mouse 1\n",
      "airavata_cerebrum.atlas.data.abm_celltypes 132\n",
      "airavata_cerebrum.atlas.data.abc_mouse 1\n",
      "airavata_cerebrum.atlas.data.abm_celltypes 132\n",
      "airavata_cerebrum.atlas.data.abc_mouse 1\n"
     ]
    }
   ],
   "source": [
    "#\n",
    "with open(\"./v1l4/description/db_connect_output.json\") as ifx:\n",
    "    jsx = json.load(ifx)\n",
    "    for x, y in jsx.items():\n",
    "        print(x, len(y))\n",
    "#\n",
    "with open(\"./v1l4/description/db_xform_output.json\") as ifx:\n",
    "    jsx = json.load(ifx)\n",
    "    for x, y in jsx.items():\n",
    "        print(x, len(y))\n",
    "#\n",
    "for x, y in xdb_output.items():\n",
    "    print(x, len(y))\n",
    "#\n",
    "for x, y in xdb_output2.items():\n",
    "    print(x, len(y))"
   ]
  },
  {
   "cell_type": "code",
   "execution_count": 118,
   "id": "503937c7-bdd6-4100-abce-2dba9452c950",
   "metadata": {},
   "outputs": [
    {
     "name": "stdout",
     "output_type": "stream",
     "text": [
      "airavata_cerebrum.atlas.data.abm_celltypes.CTDbCellApiQuery\n",
      "airavata_cerebrum.atlas.data.abm_celltypes.CTDbGlifApiQuery\n",
      "airavata_cerebrum.atlas.data.abc_mouse.ABCDbMERFISH_CCFQuery\n",
      "airavata_cerebrum.atlas.data.ai_synphys.AISynPhysQuery\n",
      "airavata_cerebrum.atlas.data.base.TQDMWrapper\n",
      "airavata_cerebrum.atlas.data.abm_celltypes.CTExplainedRatioFilter\n",
      "airavata_cerebrum.atlas.data.abm_celltypes.CTPropertyFilter\n",
      "airavata_cerebrum.atlas.data.abm_celltypes.CTModelNameFilter\n",
      "airavata_cerebrum.atlas.data.abc_mouse.ABCDbMERFISH_CCFLayerRegionFilter\n",
      "airavata_cerebrum.atlas.data.abc_mouse.ABCDbMERFISH_CCFFractionFilter\n"
     ]
    }
   ],
   "source": [
    "import v1l4_view\n",
    "cfg_template =  v1l4_view.get_model_template()\n",
    "cfg_temp_views = {}\n",
    "for qxkey, dctx in cfg_template.get_template().items():\n",
    "    print(qxkey)\n",
    "    cfg_temp_views[qxkey] = v1l4_view.QXTemplateView(dctx)"
   ]
  },
  {
   "cell_type": "code",
   "execution_count": 71,
   "id": "9788bda5-675c-40ce-933a-341debd6bb7a",
   "metadata": {},
   "outputs": [
    {
     "data": {
      "application/vnd.jupyter.widget-view+json": {
       "model_id": "e64bd6f0babd44d8b1e26187a17dbe0a",
       "version_major": 2,
       "version_minor": 0
      },
      "text/plain": [
       "VBox(children=(Label(value=' Init Arguments :  N/A '), Label(value=' Exec Arguments : '), HBox(children=(Label…"
      ]
     },
     "execution_count": 71,
     "metadata": {},
     "output_type": "execute_result"
    }
   ],
   "source": [
    "cfg_temp_views[\"airavata_cerebrum.atlas.data.abm_celltypes.CTDbCellApiQuery\"].panel"
   ]
  },
  {
   "cell_type": "code",
   "execution_count": 72,
   "id": "9ad21311-4863-41da-a548-6adbbe1c88b8",
   "metadata": {},
   "outputs": [
    {
     "data": {
      "application/vnd.jupyter.widget-view+json": {
       "model_id": "121d40b7d1974b5089c1149ae3d4a9b0",
       "version_major": 2,
       "version_minor": 0
      },
      "text/plain": [
       "VBox(children=(Label(value=' Init Arguments :  N/A '), Label(value=' Exec Arguments : '), HBox(children=(Label…"
      ]
     },
     "execution_count": 72,
     "metadata": {},
     "output_type": "execute_result"
    }
   ],
   "source": [
    "cfg_temp_views[\"airavata_cerebrum.atlas.data.abm_celltypes.CTDbGlifApiQuery\"].panel"
   ]
  },
  {
   "cell_type": "code",
   "execution_count": 23,
   "id": "b531f474-188e-4a09-b1e3-31495e15d950",
   "metadata": {},
   "outputs": [
    {
     "data": {
      "application/vnd.jupyter.widget-view+json": {
       "model_id": "a9106bbabfdb4453a54465366f855477",
       "version_major": 2,
       "version_minor": 0
      },
      "text/plain": [
       "VBox(children=(Label(value=' Init Arguments : '), HBox(children=(Label(value='Download Directory :'), Text(val…"
      ]
     },
     "execution_count": 23,
     "metadata": {},
     "output_type": "execute_result"
    }
   ],
   "source": [
    "qry_cfg_temp_panel[\"airavata_cerebrum.atlas.data.abc_mouse.ABCDbMERFISH_CCFQuery\"].panel"
   ]
  },
  {
   "cell_type": "code",
   "execution_count": 73,
   "id": "36e6e9d3-b753-48e8-9ee3-863776de9044",
   "metadata": {},
   "outputs": [
    {
     "data": {
      "application/vnd.jupyter.widget-view+json": {
       "model_id": "6df301e3bf364c79bec2d229cce37c5a",
       "version_major": 2,
       "version_minor": 0
      },
      "text/plain": [
       "VBox(children=(Label(value=' Init Arguments : '), HBox(children=(Label(value='Download Directory :'), Text(val…"
      ]
     },
     "execution_count": 73,
     "metadata": {},
     "output_type": "execute_result"
    }
   ],
   "source": [
    "cfg_temp_views[\"airavata_cerebrum.atlas.data.ai_synphys.AISynPhysQuery\"].panel"
   ]
  },
  {
   "cell_type": "code",
   "execution_count": 74,
   "id": "017e7ba6-1e69-4ddc-b6c5-0e386d92cb26",
   "metadata": {},
   "outputs": [
    {
     "data": {
      "application/vnd.jupyter.widget-view+json": {
       "model_id": "c6b7a579376844cdb70cb9d75ef83ddb",
       "version_major": 2,
       "version_minor": 0
      },
      "text/plain": [
       "VBox(children=(Label(value=' Init Arguments :  N/A '), Label(value=' Exec Arguments :  N/A ')))"
      ]
     },
     "execution_count": 74,
     "metadata": {},
     "output_type": "execute_result"
    }
   ],
   "source": [
    "\n",
    "cfg_temp_views[\"airavata_cerebrum.atlas.data.base.TQDMWrapper\"].panel"
   ]
  },
  {
   "cell_type": "code",
   "execution_count": 75,
   "id": "26f6c8fd-17a6-4c60-a2e1-11349e0b0b4b",
   "metadata": {},
   "outputs": [
    {
     "data": {
      "application/vnd.jupyter.widget-view+json": {
       "model_id": "c2595105f2d040a4bd2f24039a61a68f",
       "version_major": 2,
       "version_minor": 0
      },
      "text/plain": [
       "VBox(children=(Label(value=' Init Arguments :  N/A '), Label(value=' Exec Arguments : '), HBox(children=(Label…"
      ]
     },
     "execution_count": 75,
     "metadata": {},
     "output_type": "execute_result"
    }
   ],
   "source": [
    "cfg_temp_views[\"airavata_cerebrum.atlas.data.abm_celltypes.CTExplainedRatioFilter\"].panel"
   ]
  },
  {
   "cell_type": "code",
   "execution_count": 119,
   "id": "c991e751-2c1d-4814-b128-fe1aff39bacd",
   "metadata": {},
   "outputs": [
    {
     "data": {
      "application/vnd.jupyter.widget-view+json": {
       "model_id": "9bf1df0095ac40b28ad6bf37cabe913b",
       "version_major": 2,
       "version_minor": 0
      },
      "text/plain": [
       "VBox(children=(Label(value=' Init Arguments :  N/A '), Label(value=' Exec Arguments : '), HBox(children=(Label…"
      ]
     },
     "execution_count": 119,
     "metadata": {},
     "output_type": "execute_result"
    }
   ],
   "source": [
    "cfg_temp_views[\"airavata_cerebrum.atlas.data.abm_celltypes.CTPropertyFilter\"].panel"
   ]
  },
  {
   "cell_type": "code",
   "execution_count": 77,
   "id": "efee7566-1452-47fd-813c-45aebcee7d53",
   "metadata": {},
   "outputs": [
    {
     "data": {
      "application/vnd.jupyter.widget-view+json": {
       "model_id": "6c5fd8603ce247ca9169787c014555bb",
       "version_major": 2,
       "version_minor": 0
      },
      "text/plain": [
       "VBox(children=(Label(value=' Init Arguments :  N/A '), Label(value=' Exec Arguments : '), HBox(children=(Label…"
      ]
     },
     "execution_count": 77,
     "metadata": {},
     "output_type": "execute_result"
    }
   ],
   "source": [
    "cfg_temp_views[\"airavata_cerebrum.atlas.data.abm_celltypes.CTModelNameFilter\"].panel"
   ]
  },
  {
   "cell_type": "code",
   "execution_count": 78,
   "id": "639d9ea8-68ca-474a-9b19-b82f959c64b1",
   "metadata": {},
   "outputs": [
    {
     "data": {
      "application/vnd.jupyter.widget-view+json": {
       "model_id": "32c293eb38ad40f1b7ababa6faac4ee1",
       "version_major": 2,
       "version_minor": 0
      },
      "text/plain": [
       "VBox(children=(Label(value=' Init Arguments :  N/A '), Label(value=' Exec Arguments : '), HBox(children=(Label…"
      ]
     },
     "execution_count": 78,
     "metadata": {},
     "output_type": "execute_result"
    }
   ],
   "source": [
    "cfg_temp_views[\"airavata_cerebrum.atlas.data.abc_mouse.ABCDbMERFISH_CCFLayerRegionFilter\"].panel"
   ]
  },
  {
   "cell_type": "code",
   "execution_count": 32,
   "id": "d8a36309-97d1-4810-9f5b-a3d8f21ffc9c",
   "metadata": {},
   "outputs": [
    {
     "data": {
      "application/vnd.jupyter.widget-view+json": {
       "model_id": "553284b856974e02a4969bd1fa54f3d0",
       "version_major": 2,
       "version_minor": 0
      },
      "text/plain": [
       "VBox(children=(Label(value=' Init Arguments :  N/A '), Label(value=' Exec Arguments : '), HBox(children=(Label…"
      ]
     },
     "execution_count": 32,
     "metadata": {},
     "output_type": "execute_result"
    }
   ],
   "source": [
    "xform_cfg_temp_panel[\"airavata_cerebrum.atlas.data.abc_mouse.ABCDbMERFISH_CCFFractionFilter\"].panel"
   ]
  },
  {
   "cell_type": "code",
   "execution_count": 120,
   "id": "6e2281e2-76d1-41af-b909-993aee9d3c25",
   "metadata": {},
   "outputs": [
    {
     "data": {
      "application/vnd.jupyter.widget-view+json": {
       "model_id": "82d2ec94b00246148d598749546b6ff6",
       "version_major": 2,
       "version_minor": 0
      },
      "text/plain": [
       "TwoByTwoLayout(children=(Tree(layout=Layout(grid_area='top-left', width='40%'), multiple_selection=False, node…"
      ]
     },
     "execution_count": 120,
     "metadata": {},
     "output_type": "execute_result"
    }
   ],
   "source": [
    "import v1l4_view\n",
    "#\n",
    "dbxc = model_dex.model_config.get_config(\"db_connect\")\n",
    "tree = v1l4_view.db_conn_tree(dbxc)\n",
    "tree.layout.width = '40%' \n",
    "full_panel = ipywidgets.TwoByTwoLayout(top_left=tree, bottom_right=None)\n",
    "#\n",
    "def tree_update(change):\n",
    "    new_val = change[\"new\"]\n",
    "    if not len(new_val):\n",
    "        return\n",
    "    logging.getLogger(\"tree-update\").warning(\"Key : \" + new_val[0].node_key)\n",
    "    node_key = new_val[0].node_key\n",
    "    if node_key in cfg_temp_views:\n",
    "        logging.getLogger(\"tree-update\").warning(\"Key in Panel \")\n",
    "        rview = cfg_temp_views[node_key]\n",
    "        full_panel.bottom_right = rview.panel\n",
    "tree.observe(tree_update, names='selected_nodes')\n",
    "full_panel"
   ]
  },
  {
   "cell_type": "code",
   "execution_count": null,
   "id": "61901b73-1896-4d66-89af-a20fa5d972e1",
   "metadata": {},
   "outputs": [],
   "source": []
  }
 ],
 "metadata": {
  "kernelspec": {
   "display_name": "Python 3 (ipykernel)",
   "language": "python",
   "name": "python3"
  },
  "language_info": {
   "codemirror_mode": {
    "name": "ipython",
    "version": 3
   },
   "file_extension": ".py",
   "mimetype": "text/x-python",
   "name": "python",
   "nbconvert_exporter": "python",
   "pygments_lexer": "ipython3",
   "version": "3.10.14"
  }
 },
 "nbformat": 4,
 "nbformat_minor": 5
}
