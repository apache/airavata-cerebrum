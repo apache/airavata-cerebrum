{
 "cells": [
  {
   "cell_type": "code",
   "execution_count": 1,
   "id": "50f01d4a-2dd9-4a5b-bcee-3f87d85ea8ce",
   "metadata": {},
   "outputs": [],
   "source": [
    "%load_ext autoreload\n",
    "%autoreload 2 "
   ]
  },
  {
   "cell_type": "code",
   "execution_count": 11,
   "id": "cc1e02e6-1cd2-41df-973c-54d8b8b7305d",
   "metadata": {},
   "outputs": [
    {
     "name": "stdout",
     "output_type": "stream",
     "text": [
      "Checking if mandatory config keys exists :  True\n",
      "Config loaded with  11  templates\n"
     ]
    }
   ],
   "source": [
    "import json\n",
    "import jsonpath\n",
    "import traitlets\n",
    "import ipywidgets\n",
    "import ipytree\n",
    "import logging\n",
    "import airavata_cerebrum.util.desc_config as cbm_dcfg\n",
    "import airavata_cerebrum.model.desc as cbm_desc\n",
    "import airavata_cerebrum.view.tree as cbm_tree\n",
    "import airavata_cerebrum.model.mousev1 as mousev1\n",
    "#\n",
    "#\n",
    "md_config = cbm_dcfg.ModelDescConfig(\n",
    "    name=\"v1l4\",\n",
    "    base_dir=\"./\",\n",
    "    config_files={\"config\": [\"config.json\"]},\n",
    "    config_dir=\"./v1l4/description/\",\n",
    ")\n",
    "print(\"Checking if mandatory config keys exists : \", md_config.valid())\n",
    "\n",
    "mdtp_config = cbm_dcfg.ModelDescConfigTemplate(\n",
    "    config_files={\"templates\": [\"config_template.json\"]},\n",
    "    config_dir=\"./v1l4/description/\",\n",
    ")\n",
    "print(\"Config loaded with \", len(mdtp_config.get_templates()), \" templates\")\n",
    "\n",
    "model_dex =  cbm_desc.ModelDescription(\n",
    "    config=md_config,\n",
    "    region_mapper=mousev1.V1RegionMapper,\n",
    "    neuron_mapper=mousev1.V1NeuronMapper,\n",
    "    connection_mapper=mousev1.V1ConnectionMapper,\n",
    "    network_builder=mousev1.V1BMTKNetworkBuilder, \n",
    "    custom_mod=\"./v1l4/description/custom_mod.json\", \n",
    "    save_flag=False,\n",
    ")  "
   ]
  },
  {
   "cell_type": "code",
   "execution_count": null,
   "id": "13c9534d-2cee-430f-999c-582de96a8ad0",
   "metadata": {},
   "outputs": [],
   "source": [
    "## S"
   ]
  },
  {
   "cell_type": "code",
   "execution_count": 29,
   "id": "67449867-e7f0-4c4a-8084-43a844bd50e4",
   "metadata": {},
   "outputs": [
    {
     "data": {
      "application/vnd.jupyter.widget-view+json": {
       "model_id": "c15d492d74654fa98e9066c51808f57c",
       "version_major": 2,
       "version_minor": 0
      },
      "text/plain": [
       "TwoByTwoLayout(children=(Tree(layout=Layout(grid_area='top-left', width='40%'), multiple_selection=False, node…"
      ]
     },
     "execution_count": 29,
     "metadata": {},
     "output_type": "execute_result"
    }
   ],
   "source": [
    "src_tree = cbm_tree.SourceDataTreeView(md_config, mdtp_config)\n",
    "src_tree.build()\n",
    "src_tree.layout"
   ]
  },
  {
   "cell_type": "code",
   "execution_count": 30,
   "id": "5324a969-6abb-4bdd-a1dd-f5f28dc7d599",
   "metadata": {},
   "outputs": [
    {
     "data": {
      "application/vnd.jupyter.widget-view+json": {
       "model_id": "74bcbfce602b40d4abc7fc3c70d3a064",
       "version_major": 2,
       "version_minor": 0
      },
      "text/plain": [
       "TwoByTwoLayout(children=(Tree(layout=Layout(grid_area='top-left', width='40%'), multiple_selection=False, node…"
      ]
     },
     "execution_count": 30,
     "metadata": {},
     "output_type": "execute_result"
    }
   ],
   "source": [
    "loc_tree = cbm_tree.D2MLocationsTreeView(md_config, mdtp_config)\n",
    "loc_tree.build()\n",
    "loc_tree.layout"
   ]
  },
  {
   "cell_type": "code",
   "execution_count": 32,
   "id": "5e805238-96e5-4832-97b2-60b9e930bd23",
   "metadata": {},
   "outputs": [
    {
     "data": {
      "application/vnd.jupyter.widget-view+json": {
       "model_id": "12bfee85a1424f67b8ec6149130047b7",
       "version_major": 2,
       "version_minor": 0
      },
      "text/plain": [
       "TwoByTwoLayout(children=(Tree(layout=Layout(grid_area='top-left', width='40%'), multiple_selection=False, node…"
      ]
     },
     "execution_count": 32,
     "metadata": {},
     "output_type": "execute_result"
    }
   ],
   "source": [
    "conn_tree = cbm_tree.D2MConnectionsTreeView(md_config, mdtp_config)\n",
    "conn_tree.build()\n",
    "conn_tree.layout"
   ]
  },
  {
   "cell_type": "code",
   "execution_count": 4,
   "id": "26e095d4-a8b7-4f33-81cb-d2c3fc08848f",
   "metadata": {},
   "outputs": [
    {
     "name": "stderr",
     "output_type": "stream",
     "text": [
      "/home/srirampc/anaconda3/envs/cerebrum/lib/python3.10/site-packages/neuroanalysis/util/jit.py:25: UserWarning: Could not import numba; falling back to slower implementation.\n",
      "  warnings.warn(\"Could not import numba; falling back to slower implementation.\")\n"
     ]
    },
    {
     "data": {
      "application/vnd.jupyter.widget-view+json": {
       "model_id": "6a3dad934ae04cf1a43c50d66639673e",
       "version_major": 2,
       "version_minor": 0
      },
      "text/plain": [
       "TwoByTwoLayout(children=(Tree(layout=Layout(grid_area='top-left', width='40%'), multiple_selection=False, node…"
      ]
     },
     "execution_count": 4,
     "metadata": {},
     "output_type": "execute_result"
    }
   ],
   "source": [
    "import v1l4_view\n",
    "#\n",
    "dsrc_views = {}\n",
    "for qx, dctx in mdtp_config.get_templates().items():\n",
    "    # print(\"Initializing Panels for \", qx)\n",
    "    dsrc_views[qx] = v1l4_view.QXTemplateView(dctx)\n",
    "dbxc = md_config.get_config(\"source_data\")\n",
    "tree = v1l4_view.source_data_tree(dbxc)\n",
    "tree.layout.width = '40%' \n",
    "full_panel = ipywidgets.TwoByTwoLayout(top_left=tree, bottom_right=None)\n",
    "\n",
    "full_panel\n"
   ]
  },
  {
   "cell_type": "code",
   "execution_count": 5,
   "id": "8d7d5a7d-f369-45e1-98d9-b7515067b695",
   "metadata": {},
   "outputs": [],
   "source": [
    "#\n",
    "def tree_update(change):\n",
    "    new_val = change[\"new\"]\n",
    "    if not len(new_val):\n",
    "        return\n",
    "    logging.getLogger(\"tree-update\").warning(\"Key : \" + new_val[0].node_key)\n",
    "    node_key = new_val[0].node_key\n",
    "    if node_key in dsrc_views:\n",
    "        logging.getLogger(\"tree-update\").warning(\"Key in Panel \")\n",
    "        rview = dsrc_views[node_key]\n",
    "        rview.update(new_val[0])\n",
    "        full_panel.bottom_right = rview.panel\n",
    "tree.observe(tree_update, names='selected_nodes')"
   ]
  },
  {
   "cell_type": "code",
   "execution_count": 116,
   "id": "94504512-a31e-4537-a5bf-11edb941daa1",
   "metadata": {},
   "outputs": [
    {
     "name": "stderr",
     "output_type": "stream",
     "text": [
      "INFO:airavata_cerebrum.atlas.log.logging:Processing xformers for db airavata_cerebrum.atlas.data.abm_celltypes\n",
      "INFO:airavata_cerebrum.atlas.log.logging:Running XFormer : airavata_cerebrum.atlas.data.json_filter.IterJPatchFilter\n",
      "INFO:airavata_cerebrum.atlas.log.logging:Completed XForm : airavata_cerebrum.atlas.data.json_filter.IterJPatchFilter\n",
      "INFO:airavata_cerebrum.atlas.log.logging:Running XFormer : airavata_cerebrum.atlas.data.json_filter.IterJPatchFilter\n",
      "INFO:airavata_cerebrum.atlas.log.logging:Completed XForm : airavata_cerebrum.atlas.data.json_filter.IterJPatchFilter\n",
      "INFO:airavata_cerebrum.atlas.log.logging:Running XFormer : airavata_cerebrum.atlas.data.json_filter.IterJPointerFilter\n",
      "INFO:airavata_cerebrum.atlas.log.logging:Completed XForm : airavata_cerebrum.atlas.data.json_filter.IterJPointerFilter\n",
      "INFO:airavata_cerebrum.atlas.log.logging:Completed processing xformers for db airavata_cerebrum.atlas.data.abm_celltypes\n",
      "INFO:airavata_cerebrum.atlas.log.logging:Processing xformers for db airavata_cerebrum.atlas.data.abc_mouse\n",
      "INFO:airavata_cerebrum.atlas.log.logging:Running XFormer : airavata_cerebrum.atlas.data.json_filter.JPointerFilter\n",
      "INFO:airavata_cerebrum.atlas.log.logging:Completed XForm : airavata_cerebrum.atlas.data.json_filter.JPointerFilter\n",
      "INFO:airavata_cerebrum.atlas.log.logging:Completed processing xformers for db airavata_cerebrum.atlas.data.abc_mouse\n"
     ]
    }
   ],
   "source": [
    "model_dex = v1l4.v1l4_model_desc(config_files={\"config\": \"config.json\", \"templates\": \"config_template.json\"})"
   ]
  },
  {
   "cell_type": "code",
   "execution_count": 117,
   "id": "c049af22-e26c-4c45-b2a2-0e119a430dd9",
   "metadata": {},
   "outputs": [
    {
     "name": "stdout",
     "output_type": "stream",
     "text": [
      "airavata_cerebrum.atlas.data.abm_celltypes 457\n",
      "airavata_cerebrum.atlas.data.abc_mouse 1\n",
      "airavata_cerebrum.atlas.data.abm_celltypes 132\n",
      "airavata_cerebrum.atlas.data.abc_mouse 1\n",
      "airavata_cerebrum.atlas.data.abm_celltypes 132\n",
      "airavata_cerebrum.atlas.data.abc_mouse 1\n",
      "airavata_cerebrum.atlas.data.abm_celltypes 132\n",
      "airavata_cerebrum.atlas.data.abc_mouse 1\n"
     ]
    }
   ],
   "source": [
    "#\n",
    "with open(\"./v1l4/description/db_connect_output.json\") as ifx:\n",
    "    jsx = json.load(ifx)\n",
    "    for x, y in jsx.items():\n",
    "        print(x, len(y))\n",
    "#\n",
    "with open(\"./v1l4/description/db_xform_output.json\") as ifx:\n",
    "    jsx = json.load(ifx)\n",
    "    for x, y in jsx.items():\n",
    "        print(x, len(y))\n",
    "#\n",
    "for x, y in xdb_output.items():\n",
    "    print(x, len(y))\n",
    "#\n",
    "for x, y in xdb_output2.items():\n",
    "    print(x, len(y))"
   ]
  },
  {
   "cell_type": "code",
   "execution_count": 118,
   "id": "503937c7-bdd6-4100-abce-2dba9452c950",
   "metadata": {},
   "outputs": [
    {
     "name": "stdout",
     "output_type": "stream",
     "text": [
      "airavata_cerebrum.atlas.data.abm_celltypes.CTDbCellApiQuery\n",
      "airavata_cerebrum.atlas.data.abm_celltypes.CTDbGlifApiQuery\n",
      "airavata_cerebrum.atlas.data.abc_mouse.ABCDbMERFISH_CCFQuery\n",
      "airavata_cerebrum.atlas.data.ai_synphys.AISynPhysQuery\n",
      "airavata_cerebrum.atlas.data.base.TQDMWrapper\n",
      "airavata_cerebrum.atlas.data.abm_celltypes.CTExplainedRatioFilter\n",
      "airavata_cerebrum.atlas.data.abm_celltypes.CTPropertyFilter\n",
      "airavata_cerebrum.atlas.data.abm_celltypes.CTModelNameFilter\n",
      "airavata_cerebrum.atlas.data.abc_mouse.ABCDbMERFISH_CCFLayerRegionFilter\n",
      "airavata_cerebrum.atlas.data.abc_mouse.ABCDbMERFISH_CCFFractionFilter\n"
     ]
    }
   ],
   "source": [
    "import v1l4_view\n",
    "cfg_template =  v1l4_view.get_model_template()\n",
    "cfg_temp_views = {}\n",
    "for qxkey, dctx in cfg_template.get_template().items():\n",
    "    print(qxkey)\n",
    "    cfg_temp_views[qxkey] = v1l4_view.QXTemplateView(dctx)"
   ]
  },
  {
   "cell_type": "code",
   "execution_count": 71,
   "id": "9788bda5-675c-40ce-933a-341debd6bb7a",
   "metadata": {},
   "outputs": [
    {
     "data": {
      "application/vnd.jupyter.widget-view+json": {
       "model_id": "e64bd6f0babd44d8b1e26187a17dbe0a",
       "version_major": 2,
       "version_minor": 0
      },
      "text/plain": [
       "VBox(children=(Label(value=' Init Arguments :  N/A '), Label(value=' Exec Arguments : '), HBox(children=(Label…"
      ]
     },
     "execution_count": 71,
     "metadata": {},
     "output_type": "execute_result"
    }
   ],
   "source": [
    "cfg_temp_views[\"airavata_cerebrum.atlas.data.abm_celltypes.CTDbCellApiQuery\"].panel"
   ]
  },
  {
   "cell_type": "code",
   "execution_count": 72,
   "id": "9ad21311-4863-41da-a548-6adbbe1c88b8",
   "metadata": {},
   "outputs": [
    {
     "data": {
      "application/vnd.jupyter.widget-view+json": {
       "model_id": "121d40b7d1974b5089c1149ae3d4a9b0",
       "version_major": 2,
       "version_minor": 0
      },
      "text/plain": [
       "VBox(children=(Label(value=' Init Arguments :  N/A '), Label(value=' Exec Arguments : '), HBox(children=(Label…"
      ]
     },
     "execution_count": 72,
     "metadata": {},
     "output_type": "execute_result"
    }
   ],
   "source": [
    "cfg_temp_views[\"airavata_cerebrum.atlas.data.abm_celltypes.CTDbGlifApiQuery\"].panel"
   ]
  },
  {
   "cell_type": "code",
   "execution_count": 23,
   "id": "b531f474-188e-4a09-b1e3-31495e15d950",
   "metadata": {},
   "outputs": [
    {
     "data": {
      "application/vnd.jupyter.widget-view+json": {
       "model_id": "a9106bbabfdb4453a54465366f855477",
       "version_major": 2,
       "version_minor": 0
      },
      "text/plain": [
       "VBox(children=(Label(value=' Init Arguments : '), HBox(children=(Label(value='Download Directory :'), Text(val…"
      ]
     },
     "execution_count": 23,
     "metadata": {},
     "output_type": "execute_result"
    }
   ],
   "source": [
    "qry_cfg_temp_panel[\"airavata_cerebrum.atlas.data.abc_mouse.ABCDbMERFISH_CCFQuery\"].panel"
   ]
  },
  {
   "cell_type": "code",
   "execution_count": 73,
   "id": "36e6e9d3-b753-48e8-9ee3-863776de9044",
   "metadata": {},
   "outputs": [
    {
     "data": {
      "application/vnd.jupyter.widget-view+json": {
       "model_id": "6df301e3bf364c79bec2d229cce37c5a",
       "version_major": 2,
       "version_minor": 0
      },
      "text/plain": [
       "VBox(children=(Label(value=' Init Arguments : '), HBox(children=(Label(value='Download Directory :'), Text(val…"
      ]
     },
     "execution_count": 73,
     "metadata": {},
     "output_type": "execute_result"
    }
   ],
   "source": [
    "cfg_temp_views[\"airavata_cerebrum.atlas.data.ai_synphys.AISynPhysQuery\"].panel"
   ]
  },
  {
   "cell_type": "code",
   "execution_count": 74,
   "id": "017e7ba6-1e69-4ddc-b6c5-0e386d92cb26",
   "metadata": {},
   "outputs": [
    {
     "data": {
      "application/vnd.jupyter.widget-view+json": {
       "model_id": "c6b7a579376844cdb70cb9d75ef83ddb",
       "version_major": 2,
       "version_minor": 0
      },
      "text/plain": [
       "VBox(children=(Label(value=' Init Arguments :  N/A '), Label(value=' Exec Arguments :  N/A ')))"
      ]
     },
     "execution_count": 74,
     "metadata": {},
     "output_type": "execute_result"
    }
   ],
   "source": [
    "\n",
    "cfg_temp_views[\"airavata_cerebrum.atlas.data.base.TQDMWrapper\"].panel"
   ]
  },
  {
   "cell_type": "code",
   "execution_count": 75,
   "id": "26f6c8fd-17a6-4c60-a2e1-11349e0b0b4b",
   "metadata": {},
   "outputs": [
    {
     "data": {
      "application/vnd.jupyter.widget-view+json": {
       "model_id": "c2595105f2d040a4bd2f24039a61a68f",
       "version_major": 2,
       "version_minor": 0
      },
      "text/plain": [
       "VBox(children=(Label(value=' Init Arguments :  N/A '), Label(value=' Exec Arguments : '), HBox(children=(Label…"
      ]
     },
     "execution_count": 75,
     "metadata": {},
     "output_type": "execute_result"
    }
   ],
   "source": [
    "cfg_temp_views[\"airavata_cerebrum.atlas.data.abm_celltypes.CTExplainedRatioFilter\"].panel"
   ]
  },
  {
   "cell_type": "code",
   "execution_count": 119,
   "id": "c991e751-2c1d-4814-b128-fe1aff39bacd",
   "metadata": {},
   "outputs": [
    {
     "data": {
      "application/vnd.jupyter.widget-view+json": {
       "model_id": "9bf1df0095ac40b28ad6bf37cabe913b",
       "version_major": 2,
       "version_minor": 0
      },
      "text/plain": [
       "VBox(children=(Label(value=' Init Arguments :  N/A '), Label(value=' Exec Arguments : '), HBox(children=(Label…"
      ]
     },
     "execution_count": 119,
     "metadata": {},
     "output_type": "execute_result"
    }
   ],
   "source": [
    "cfg_temp_views[\"airavata_cerebrum.atlas.data.abm_celltypes.CTPropertyFilter\"].panel"
   ]
  },
  {
   "cell_type": "code",
   "execution_count": 77,
   "id": "efee7566-1452-47fd-813c-45aebcee7d53",
   "metadata": {},
   "outputs": [
    {
     "data": {
      "application/vnd.jupyter.widget-view+json": {
       "model_id": "6c5fd8603ce247ca9169787c014555bb",
       "version_major": 2,
       "version_minor": 0
      },
      "text/plain": [
       "VBox(children=(Label(value=' Init Arguments :  N/A '), Label(value=' Exec Arguments : '), HBox(children=(Label…"
      ]
     },
     "execution_count": 77,
     "metadata": {},
     "output_type": "execute_result"
    }
   ],
   "source": [
    "cfg_temp_views[\"airavata_cerebrum.atlas.data.abm_celltypes.CTModelNameFilter\"].panel"
   ]
  },
  {
   "cell_type": "code",
   "execution_count": 78,
   "id": "639d9ea8-68ca-474a-9b19-b82f959c64b1",
   "metadata": {},
   "outputs": [
    {
     "data": {
      "application/vnd.jupyter.widget-view+json": {
       "model_id": "32c293eb38ad40f1b7ababa6faac4ee1",
       "version_major": 2,
       "version_minor": 0
      },
      "text/plain": [
       "VBox(children=(Label(value=' Init Arguments :  N/A '), Label(value=' Exec Arguments : '), HBox(children=(Label…"
      ]
     },
     "execution_count": 78,
     "metadata": {},
     "output_type": "execute_result"
    }
   ],
   "source": [
    "cfg_temp_views[\"airavata_cerebrum.atlas.data.abc_mouse.ABCDbMERFISH_CCFLayerRegionFilter\"].panel"
   ]
  },
  {
   "cell_type": "code",
   "execution_count": 32,
   "id": "d8a36309-97d1-4810-9f5b-a3d8f21ffc9c",
   "metadata": {},
   "outputs": [
    {
     "data": {
      "application/vnd.jupyter.widget-view+json": {
       "model_id": "553284b856974e02a4969bd1fa54f3d0",
       "version_major": 2,
       "version_minor": 0
      },
      "text/plain": [
       "VBox(children=(Label(value=' Init Arguments :  N/A '), Label(value=' Exec Arguments : '), HBox(children=(Label…"
      ]
     },
     "execution_count": 32,
     "metadata": {},
     "output_type": "execute_result"
    }
   ],
   "source": [
    "xform_cfg_temp_panel[\"airavata_cerebrum.atlas.data.abc_mouse.ABCDbMERFISH_CCFFractionFilter\"].panel"
   ]
  },
  {
   "cell_type": "code",
   "execution_count": 120,
   "id": "6e2281e2-76d1-41af-b909-993aee9d3c25",
   "metadata": {},
   "outputs": [
    {
     "data": {
      "application/vnd.jupyter.widget-view+json": {
       "model_id": "82d2ec94b00246148d598749546b6ff6",
       "version_major": 2,
       "version_minor": 0
      },
      "text/plain": [
       "TwoByTwoLayout(children=(Tree(layout=Layout(grid_area='top-left', width='40%'), multiple_selection=False, node…"
      ]
     },
     "execution_count": 120,
     "metadata": {},
     "output_type": "execute_result"
    }
   ],
   "source": [
    "import v1l4_view\n",
    "#\n",
    "dbxc = model_dex.model_config.get_config(\"db_connect\")\n",
    "tree = v1l4_view.db_conn_tree(dbxc)\n",
    "tree.layout.width = '40%' \n",
    "full_panel = ipywidgets.TwoByTwoLayout(top_left=tree, bottom_right=None)\n",
    "#\n",
    "def tree_update(change):\n",
    "    new_val = change[\"new\"]\n",
    "    if not len(new_val):\n",
    "        return\n",
    "    logging.getLogger(\"tree-update\").warning(\"Key : \" + new_val[0].node_key)\n",
    "    node_key = new_val[0].node_key\n",
    "    if node_key in cfg_temp_views:\n",
    "        logging.getLogger(\"tree-update\").warning(\"Key in Panel \")\n",
    "        rview = cfg_temp_views[node_key]\n",
    "        full_panel.bottom_right = rview.panel\n",
    "tree.observe(tree_update, names='selected_nodes')\n",
    "full_panel"
   ]
  },
  {
   "cell_type": "code",
   "execution_count": 12,
   "id": "61901b73-1896-4d66-89af-a20fa5d972e1",
   "metadata": {},
   "outputs": [],
   "source": [
    "md_struct = model_dex.build_net_struct()\n",
    "md_struct = model_dex.apply_custom_mod()\n",
    "ntview = cbm_tree.NetworkTreeView(md_struct, left_width=\"55%\")\n",
    "ntx = ntview.build()"
   ]
  },
  {
   "cell_type": "code",
   "execution_count": 13,
   "id": "d0dbb4b7-b330-4cf2-9ea1-7f370d7fcd42",
   "metadata": {},
   "outputs": [
    {
     "data": {
      "application/vnd.jupyter.widget-view+json": {
       "model_id": "77b86b9ad2e94628b309c16cd2e3ecd4",
       "version_major": 2,
       "version_minor": 0
      },
      "text/plain": [
       "TwoByTwoLayout(children=(Tree(layout=Layout(grid_area='top-left', width='55%'), multiple_selection=False, node…"
      ]
     },
     "execution_count": 13,
     "metadata": {},
     "output_type": "execute_result"
    }
   ],
   "source": [
    "ntx.tree.observe(ntx.tree_update, names=\"selected_nodes\")\n",
    "ntx.layout"
   ]
  },
  {
   "cell_type": "code",
   "execution_count": 14,
   "id": "3700caf9-9747-49db-9677-c8788be77d68",
   "metadata": {},
   "outputs": [
    {
     "data": {
      "text/plain": [
       "dict_keys(['v1l4', 'VISp4', \"('4', 'Scnn1a')\", '501023852', '323838579', '500964358', '395785266', '476266853', '320207387', '517647182', '325464516', '476218657', \"('4', 'Rorb')\", '322723785', '478586425', '329557305', '500859045', '479179020', '324065524', '322761772', '467357834', '329550277', '476562817', '466378900', '486472847', '480648382', '490626827', '479508018', '490626718', '484770879', '500894271', '485836906', '480124551', '469763389', '473020156', '486500736', '484679812', '467003163', \"('4', 'Vip')\", '501570114', '560690291', '562540395', '535728342', '531121585', '561934585', \"('4', 'Pvalb')\", '487405644', '478793814', '475894121', '571314481', '478958894', '569997187', '579414994', '481127348', '491038812', '579672464', '488708322', '341459814', '481127173', '487667205', '572375809', \"('4', 'Sst')\", '476099282', '501282204', '485061364', '501280518', '573622646', '476753465', \"(('4', 'Pvalb'), ('4', 'Pvalb'))\", \"(('4', 'Pvalb', ''), ('4', 'Pvalb', '478793814'))\", \"(('4', 'Pvalb', ''), ('4', 'Pvalb', '478958894'))\", \"(('4', 'Pvalb', ''), ('4', 'Pvalb', '481127173'))\", \"(('4', 'Pvalb', ''), ('4', 'Pvalb', '481127348'))\", \"(('4', 'Pvalb', ''), ('4', 'Pvalb', '487405644'))\", \"(('4', 'Pvalb', ''), ('4', 'Pvalb', '487667205'))\", \"(('4', 'Pvalb', ''), ('4', 'Pvalb', '491038812'))\", \"(('4', 'Pvalb', ''), ('4', 'Pvalb', '569997187'))\", \"(('4', 'Pvalb', ''), ('4', 'Pvalb', '571314481'))\", \"(('4', 'Pvalb', ''), ('4', 'Pvalb', '572375809'))\", \"(('4', 'Pvalb', ''), ('4', 'Pvalb', '579414994'))\", \"(('4', 'Pvalb'), ('4', 'Sst'))\", \"(('4', 'Pvalb', ''), ('4', 'Sst', '476099282'))\", \"(('4', 'Pvalb', ''), ('4', 'Sst', '476753465'))\", \"(('4', 'Pvalb', ''), ('4', 'Sst', '485061364'))\", \"(('4', 'Pvalb', ''), ('4', 'Sst', '501280518'))\", \"(('4', 'Pvalb', ''), ('4', 'Sst', '501282204'))\", \"(('4', 'Pvalb', ''), ('4', 'Sst', '573622646'))\", \"(('4', 'Pvalb'), ('4', 'Vip'))\", \"(('4', 'Pvalb', ''), ('4', 'Vip', '501570114'))\", \"(('4', 'Pvalb', ''), ('4', 'Vip', '531121585'))\", \"(('4', 'Pvalb', ''), ('4', 'Vip', '535728342'))\", \"(('4', 'Pvalb', ''), ('4', 'Vip', '560690291'))\", \"(('4', 'Pvalb', ''), ('4', 'Vip', '561934585'))\", \"(('4', 'Pvalb', ''), ('4', 'Vip', '562540395'))\", \"(('4', 'Sst'), ('4', 'Pvalb'))\", \"(('4', 'Sst', ''), ('4', 'Pvalb', '478793814'))\", \"(('4', 'Sst', ''), ('4', 'Pvalb', '478958894'))\", \"(('4', 'Sst', ''), ('4', 'Pvalb', '481127173'))\", \"(('4', 'Sst', ''), ('4', 'Pvalb', '481127348'))\", \"(('4', 'Sst', ''), ('4', 'Pvalb', '487405644'))\", \"(('4', 'Sst', ''), ('4', 'Pvalb', '487667205'))\", \"(('4', 'Sst', ''), ('4', 'Pvalb', '491038812'))\", \"(('4', 'Sst', ''), ('4', 'Pvalb', '569997187'))\", \"(('4', 'Sst', ''), ('4', 'Pvalb', '571314481'))\", \"(('4', 'Sst', ''), ('4', 'Pvalb', '572375809'))\", \"(('4', 'Sst', ''), ('4', 'Pvalb', '579414994'))\", \"(('4', 'Sst'), ('4', 'Sst'))\", \"(('4', 'Sst', ''), ('4', 'Sst', '476099282'))\", \"(('4', 'Sst', ''), ('4', 'Sst', '476753465'))\", \"(('4', 'Sst', ''), ('4', 'Sst', '485061364'))\", \"(('4', 'Sst', ''), ('4', 'Sst', '501280518'))\", \"(('4', 'Sst', ''), ('4', 'Sst', '501282204'))\", \"(('4', 'Sst', ''), ('4', 'Sst', '573622646'))\", \"(('4', 'Sst'), ('4', 'Vip'))\", \"(('4', 'Sst', ''), ('4', 'Vip', '501570114'))\", \"(('4', 'Sst', ''), ('4', 'Vip', '531121585'))\", \"(('4', 'Sst', ''), ('4', 'Vip', '535728342'))\", \"(('4', 'Sst', ''), ('4', 'Vip', '560690291'))\", \"(('4', 'Sst', ''), ('4', 'Vip', '561934585'))\", \"(('4', 'Sst', ''), ('4', 'Vip', '562540395'))\", \"(('4', 'Vip'), ('4', 'Pvalb'))\", \"(('4', 'Vip', ''), ('4', 'Pvalb', '478793814'))\", \"(('4', 'Vip', ''), ('4', 'Pvalb', '478958894'))\", \"(('4', 'Vip', ''), ('4', 'Pvalb', '481127173'))\", \"(('4', 'Vip', ''), ('4', 'Pvalb', '481127348'))\", \"(('4', 'Vip', ''), ('4', 'Pvalb', '487405644'))\", \"(('4', 'Vip', ''), ('4', 'Pvalb', '487667205'))\", \"(('4', 'Vip', ''), ('4', 'Pvalb', '491038812'))\", \"(('4', 'Vip', ''), ('4', 'Pvalb', '569997187'))\", \"(('4', 'Vip', ''), ('4', 'Pvalb', '571314481'))\", \"(('4', 'Vip', ''), ('4', 'Pvalb', '572375809'))\", \"(('4', 'Vip', ''), ('4', 'Pvalb', '579414994'))\", \"(('4', 'Vip'), ('4', 'Sst'))\", \"(('4', 'Vip', ''), ('4', 'Sst', '476099282'))\", \"(('4', 'Vip', ''), ('4', 'Sst', '476753465'))\", \"(('4', 'Vip', ''), ('4', 'Sst', '485061364'))\", \"(('4', 'Vip', ''), ('4', 'Sst', '501280518'))\", \"(('4', 'Vip', ''), ('4', 'Sst', '501282204'))\", \"(('4', 'Vip', ''), ('4', 'Sst', '573622646'))\", \"(('4', 'Vip'), ('4', 'Vip'))\", \"(('4', 'Vip', ''), ('4', 'Vip', '501570114'))\", \"(('4', 'Vip', ''), ('4', 'Vip', '531121585'))\", \"(('4', 'Vip', ''), ('4', 'Vip', '535728342'))\", \"(('4', 'Vip', ''), ('4', 'Vip', '560690291'))\", \"(('4', 'Vip', ''), ('4', 'Vip', '561934585'))\", \"(('4', 'Vip', ''), ('4', 'Vip', '562540395'))\", \"(('4', 'Rorb'), ('4', 'Rorb'))\", \"(('4', 'Rorb', ''), ('4', 'Rorb', '322723785'))\", \"(('4', 'Rorb', ''), ('4', 'Rorb', '322761772'))\", \"(('4', 'Rorb', ''), ('4', 'Rorb', '324065524'))\", \"(('4', 'Rorb', ''), ('4', 'Rorb', '329550277'))\", \"(('4', 'Rorb', ''), ('4', 'Rorb', '466378900'))\", \"(('4', 'Rorb', ''), ('4', 'Rorb', '467003163'))\", \"(('4', 'Rorb', ''), ('4', 'Rorb', '467357834'))\", \"(('4', 'Rorb', ''), ('4', 'Rorb', '469763389'))\", \"(('4', 'Rorb', ''), ('4', 'Rorb', '473020156'))\", \"(('4', 'Rorb', ''), ('4', 'Rorb', '476562817'))\", \"(('4', 'Rorb', ''), ('4', 'Rorb', '478586425'))\", \"(('4', 'Rorb', ''), ('4', 'Rorb', '479179020'))\", \"(('4', 'Rorb', ''), ('4', 'Rorb', '484679812'))\", \"(('4', 'Rorb', ''), ('4', 'Rorb', '484770879'))\", \"(('4', 'Rorb', ''), ('4', 'Rorb', '485836906'))\", \"(('4', 'Rorb', ''), ('4', 'Rorb', '486472847'))\", \"(('4', 'Rorb', ''), ('4', 'Rorb', '486500736'))\", \"(('4', 'Rorb', ''), ('4', 'Rorb', '490626718'))\", \"(('4', 'Rorb', ''), ('4', 'Rorb', '490626827'))\", \"(('4', 'Rorb', ''), ('4', 'Rorb', '500859045'))\", \"(('4', 'Rorb', ''), ('4', 'Rorb', '500894271'))\", \"(('4', 'Rorb'), ('4', 'Scnn1a'))\", \"(('4', 'Rorb', ''), ('4', 'Scnn1a', '320207387'))\", \"(('4', 'Rorb', ''), ('4', 'Scnn1a', '323838579'))\", \"(('4', 'Rorb', ''), ('4', 'Scnn1a', '476266853'))\", \"(('4', 'Rorb', ''), ('4', 'Scnn1a', '500964358'))\", \"(('4', 'Rorb', ''), ('4', 'Scnn1a', '517647182'))\", \"(('4', 'Rorb'), ('4', 'Vip'))\", \"(('4', 'Rorb', ''), ('4', 'Vip', '501570114'))\", \"(('4', 'Rorb', ''), ('4', 'Vip', '531121585'))\", \"(('4', 'Rorb', ''), ('4', 'Vip', '535728342'))\", \"(('4', 'Rorb', ''), ('4', 'Vip', '560690291'))\", \"(('4', 'Rorb', ''), ('4', 'Vip', '561934585'))\", \"(('4', 'Rorb', ''), ('4', 'Vip', '562540395'))\", \"(('4', 'Rorb'), ('4', 'Pvalb'))\", \"(('4', 'Rorb', ''), ('4', 'Pvalb', '478793814'))\", \"(('4', 'Rorb', ''), ('4', 'Pvalb', '478958894'))\", \"(('4', 'Rorb', ''), ('4', 'Pvalb', '481127173'))\", \"(('4', 'Rorb', ''), ('4', 'Pvalb', '481127348'))\", \"(('4', 'Rorb', ''), ('4', 'Pvalb', '487405644'))\", \"(('4', 'Rorb', ''), ('4', 'Pvalb', '487667205'))\", \"(('4', 'Rorb', ''), ('4', 'Pvalb', '491038812'))\", \"(('4', 'Rorb', ''), ('4', 'Pvalb', '569997187'))\", \"(('4', 'Rorb', ''), ('4', 'Pvalb', '571314481'))\", \"(('4', 'Rorb', ''), ('4', 'Pvalb', '572375809'))\", \"(('4', 'Rorb', ''), ('4', 'Pvalb', '579414994'))\", \"(('4', 'Rorb'), ('4', 'Sst'))\", \"(('4', 'Rorb', ''), ('4', 'Sst', '476099282'))\", \"(('4', 'Rorb', ''), ('4', 'Sst', '476753465'))\", \"(('4', 'Rorb', ''), ('4', 'Sst', '485061364'))\", \"(('4', 'Rorb', ''), ('4', 'Sst', '501280518'))\", \"(('4', 'Rorb', ''), ('4', 'Sst', '501282204'))\", \"(('4', 'Rorb', ''), ('4', 'Sst', '573622646'))\", \"(('4', 'Scnn1a'), ('4', 'Rorb'))\", \"(('4', 'Scnn1a', ''), ('4', 'Rorb', '322723785'))\", \"(('4', 'Scnn1a', ''), ('4', 'Rorb', '322761772'))\", \"(('4', 'Scnn1a', ''), ('4', 'Rorb', '324065524'))\", \"(('4', 'Scnn1a', ''), ('4', 'Rorb', '329550277'))\", \"(('4', 'Scnn1a', ''), ('4', 'Rorb', '466378900'))\", \"(('4', 'Scnn1a', ''), ('4', 'Rorb', '467003163'))\", \"(('4', 'Scnn1a', ''), ('4', 'Rorb', '467357834'))\", \"(('4', 'Scnn1a', ''), ('4', 'Rorb', '469763389'))\", \"(('4', 'Scnn1a', ''), ('4', 'Rorb', '473020156'))\", \"(('4', 'Scnn1a', ''), ('4', 'Rorb', '476562817'))\", \"(('4', 'Scnn1a', ''), ('4', 'Rorb', '478586425'))\", \"(('4', 'Scnn1a', ''), ('4', 'Rorb', '479179020'))\", \"(('4', 'Scnn1a', ''), ('4', 'Rorb', '484679812'))\", \"(('4', 'Scnn1a', ''), ('4', 'Rorb', '484770879'))\", \"(('4', 'Scnn1a', ''), ('4', 'Rorb', '485836906'))\", \"(('4', 'Scnn1a', ''), ('4', 'Rorb', '486472847'))\", \"(('4', 'Scnn1a', ''), ('4', 'Rorb', '486500736'))\", \"(('4', 'Scnn1a', ''), ('4', 'Rorb', '490626718'))\", \"(('4', 'Scnn1a', ''), ('4', 'Rorb', '490626827'))\", \"(('4', 'Scnn1a', ''), ('4', 'Rorb', '500859045'))\", \"(('4', 'Scnn1a', ''), ('4', 'Rorb', '500894271'))\", \"(('4', 'Scnn1a'), ('4', 'Scnn1a'))\", \"(('4', 'Scnn1a', ''), ('4', 'Scnn1a', '320207387'))\", \"(('4', 'Scnn1a', ''), ('4', 'Scnn1a', '323838579'))\", \"(('4', 'Scnn1a', ''), ('4', 'Scnn1a', '476266853'))\", \"(('4', 'Scnn1a', ''), ('4', 'Scnn1a', '500964358'))\", \"(('4', 'Scnn1a', ''), ('4', 'Scnn1a', '517647182'))\", \"(('4', 'Scnn1a'), ('4', 'Vip'))\", \"(('4', 'Scnn1a', ''), ('4', 'Vip', '501570114'))\", \"(('4', 'Scnn1a', ''), ('4', 'Vip', '531121585'))\", \"(('4', 'Scnn1a', ''), ('4', 'Vip', '535728342'))\", \"(('4', 'Scnn1a', ''), ('4', 'Vip', '560690291'))\", \"(('4', 'Scnn1a', ''), ('4', 'Vip', '561934585'))\", \"(('4', 'Scnn1a', ''), ('4', 'Vip', '562540395'))\", \"(('4', 'Scnn1a'), ('4', 'Pvalb'))\", \"(('4', 'Scnn1a', ''), ('4', 'Pvalb', '478793814'))\", \"(('4', 'Scnn1a', ''), ('4', 'Pvalb', '478958894'))\", \"(('4', 'Scnn1a', ''), ('4', 'Pvalb', '481127173'))\", \"(('4', 'Scnn1a', ''), ('4', 'Pvalb', '481127348'))\", \"(('4', 'Scnn1a', ''), ('4', 'Pvalb', '487405644'))\", \"(('4', 'Scnn1a', ''), ('4', 'Pvalb', '487667205'))\", \"(('4', 'Scnn1a', ''), ('4', 'Pvalb', '491038812'))\", \"(('4', 'Scnn1a', ''), ('4', 'Pvalb', '569997187'))\", \"(('4', 'Scnn1a', ''), ('4', 'Pvalb', '571314481'))\", \"(('4', 'Scnn1a', ''), ('4', 'Pvalb', '572375809'))\", \"(('4', 'Scnn1a', ''), ('4', 'Pvalb', '579414994'))\", \"(('4', 'Scnn1a'), ('4', 'Sst'))\", \"(('4', 'Scnn1a', ''), ('4', 'Sst', '476099282'))\", \"(('4', 'Scnn1a', ''), ('4', 'Sst', '476753465'))\", \"(('4', 'Scnn1a', ''), ('4', 'Sst', '485061364'))\", \"(('4', 'Scnn1a', ''), ('4', 'Sst', '501280518'))\", \"(('4', 'Scnn1a', ''), ('4', 'Sst', '501282204'))\", \"(('4', 'Scnn1a', ''), ('4', 'Sst', '573622646'))\", \"(('4', 'Vip'), ('4', 'Rorb'))\", \"(('4', 'Vip', ''), ('4', 'Rorb', '322723785'))\", \"(('4', 'Vip', ''), ('4', 'Rorb', '322761772'))\", \"(('4', 'Vip', ''), ('4', 'Rorb', '324065524'))\", \"(('4', 'Vip', ''), ('4', 'Rorb', '329550277'))\", \"(('4', 'Vip', ''), ('4', 'Rorb', '466378900'))\", \"(('4', 'Vip', ''), ('4', 'Rorb', '467003163'))\", \"(('4', 'Vip', ''), ('4', 'Rorb', '467357834'))\", \"(('4', 'Vip', ''), ('4', 'Rorb', '469763389'))\", \"(('4', 'Vip', ''), ('4', 'Rorb', '473020156'))\", \"(('4', 'Vip', ''), ('4', 'Rorb', '476562817'))\", \"(('4', 'Vip', ''), ('4', 'Rorb', '478586425'))\", \"(('4', 'Vip', ''), ('4', 'Rorb', '479179020'))\", \"(('4', 'Vip', ''), ('4', 'Rorb', '484679812'))\", \"(('4', 'Vip', ''), ('4', 'Rorb', '484770879'))\", \"(('4', 'Vip', ''), ('4', 'Rorb', '485836906'))\", \"(('4', 'Vip', ''), ('4', 'Rorb', '486472847'))\", \"(('4', 'Vip', ''), ('4', 'Rorb', '486500736'))\", \"(('4', 'Vip', ''), ('4', 'Rorb', '490626718'))\", \"(('4', 'Vip', ''), ('4', 'Rorb', '490626827'))\", \"(('4', 'Vip', ''), ('4', 'Rorb', '500859045'))\", \"(('4', 'Vip', ''), ('4', 'Rorb', '500894271'))\", \"(('4', 'Vip'), ('4', 'Scnn1a'))\", \"(('4', 'Vip', ''), ('4', 'Scnn1a', '320207387'))\", \"(('4', 'Vip', ''), ('4', 'Scnn1a', '323838579'))\", \"(('4', 'Vip', ''), ('4', 'Scnn1a', '476266853'))\", \"(('4', 'Vip', ''), ('4', 'Scnn1a', '500964358'))\", \"(('4', 'Vip', ''), ('4', 'Scnn1a', '517647182'))\", \"(('4', 'Pvalb'), ('4', 'Rorb'))\", \"(('4', 'Pvalb', ''), ('4', 'Rorb', '322723785'))\", \"(('4', 'Pvalb', ''), ('4', 'Rorb', '322761772'))\", \"(('4', 'Pvalb', ''), ('4', 'Rorb', '324065524'))\", \"(('4', 'Pvalb', ''), ('4', 'Rorb', '329550277'))\", \"(('4', 'Pvalb', ''), ('4', 'Rorb', '466378900'))\", \"(('4', 'Pvalb', ''), ('4', 'Rorb', '467003163'))\", \"(('4', 'Pvalb', ''), ('4', 'Rorb', '467357834'))\", \"(('4', 'Pvalb', ''), ('4', 'Rorb', '469763389'))\", \"(('4', 'Pvalb', ''), ('4', 'Rorb', '473020156'))\", \"(('4', 'Pvalb', ''), ('4', 'Rorb', '476562817'))\", \"(('4', 'Pvalb', ''), ('4', 'Rorb', '478586425'))\", \"(('4', 'Pvalb', ''), ('4', 'Rorb', '479179020'))\", \"(('4', 'Pvalb', ''), ('4', 'Rorb', '484679812'))\", \"(('4', 'Pvalb', ''), ('4', 'Rorb', '484770879'))\", \"(('4', 'Pvalb', ''), ('4', 'Rorb', '485836906'))\", \"(('4', 'Pvalb', ''), ('4', 'Rorb', '486472847'))\", \"(('4', 'Pvalb', ''), ('4', 'Rorb', '486500736'))\", \"(('4', 'Pvalb', ''), ('4', 'Rorb', '490626718'))\", \"(('4', 'Pvalb', ''), ('4', 'Rorb', '490626827'))\", \"(('4', 'Pvalb', ''), ('4', 'Rorb', '500859045'))\", \"(('4', 'Pvalb', ''), ('4', 'Rorb', '500894271'))\", \"(('4', 'Pvalb'), ('4', 'Scnn1a'))\", \"(('4', 'Pvalb', ''), ('4', 'Scnn1a', '320207387'))\", \"(('4', 'Pvalb', ''), ('4', 'Scnn1a', '323838579'))\", \"(('4', 'Pvalb', ''), ('4', 'Scnn1a', '476266853'))\", \"(('4', 'Pvalb', ''), ('4', 'Scnn1a', '500964358'))\", \"(('4', 'Pvalb', ''), ('4', 'Scnn1a', '517647182'))\", \"(('4', 'Sst'), ('4', 'Rorb'))\", \"(('4', 'Sst', ''), ('4', 'Rorb', '322723785'))\", \"(('4', 'Sst', ''), ('4', 'Rorb', '322761772'))\", \"(('4', 'Sst', ''), ('4', 'Rorb', '324065524'))\", \"(('4', 'Sst', ''), ('4', 'Rorb', '329550277'))\", \"(('4', 'Sst', ''), ('4', 'Rorb', '466378900'))\", \"(('4', 'Sst', ''), ('4', 'Rorb', '467003163'))\", \"(('4', 'Sst', ''), ('4', 'Rorb', '467357834'))\", \"(('4', 'Sst', ''), ('4', 'Rorb', '469763389'))\", \"(('4', 'Sst', ''), ('4', 'Rorb', '473020156'))\", \"(('4', 'Sst', ''), ('4', 'Rorb', '476562817'))\", \"(('4', 'Sst', ''), ('4', 'Rorb', '478586425'))\", \"(('4', 'Sst', ''), ('4', 'Rorb', '479179020'))\", \"(('4', 'Sst', ''), ('4', 'Rorb', '484679812'))\", \"(('4', 'Sst', ''), ('4', 'Rorb', '484770879'))\", \"(('4', 'Sst', ''), ('4', 'Rorb', '485836906'))\", \"(('4', 'Sst', ''), ('4', 'Rorb', '486472847'))\", \"(('4', 'Sst', ''), ('4', 'Rorb', '486500736'))\", \"(('4', 'Sst', ''), ('4', 'Rorb', '490626718'))\", \"(('4', 'Sst', ''), ('4', 'Rorb', '490626827'))\", \"(('4', 'Sst', ''), ('4', 'Rorb', '500859045'))\", \"(('4', 'Sst', ''), ('4', 'Rorb', '500894271'))\", \"(('4', 'Sst'), ('4', 'Scnn1a'))\", \"(('4', 'Sst', ''), ('4', 'Scnn1a', '320207387'))\", \"(('4', 'Sst', ''), ('4', 'Scnn1a', '323838579'))\", \"(('4', 'Sst', ''), ('4', 'Scnn1a', '476266853'))\", \"(('4', 'Sst', ''), ('4', 'Scnn1a', '500964358'))\", \"(('4', 'Sst', ''), ('4', 'Scnn1a', '517647182'))\", 'LGN', 'lgn', 'sON_TF1', 'sON_TF2', 'sON_TF4', 'sON_TF8', 'sOFF_TF1', 'sOFF_TF2', 'sOFF_TF4', 'sOFF_TF8', 'sOFF_TF15', 'tOFF_TF4', 'tOFF_TF8', 'tOFF_TF15', 'sONsOFF_001', 'sONtOFF_001', \"(('4', 'Rorb'), '322723785')\", \"(('4', 'Rorb'), '322761772')\", \"(('4', 'Rorb'), '324065524')\", \"(('4', 'Rorb'), '329550277')\", \"(('4', 'Rorb'), '466378900')\", \"(('4', 'Rorb'), '467003163')\", \"(('4', 'Rorb'), '467357834')\", \"(('4', 'Rorb'), '469763389')\", \"(('4', 'Rorb'), '473020156')\", \"(('4', 'Rorb'), '476562817')\", \"(('4', 'Rorb'), '478586425')\", \"(('4', 'Rorb'), '479179020')\", \"(('4', 'Rorb'), '484679812')\", \"(('4', 'Rorb'), '484770879')\", \"(('4', 'Rorb'), '485836906')\", \"(('4', 'Rorb'), '486472847')\", \"(('4', 'Rorb'), '486500736')\", \"(('4', 'Rorb'), '490626718')\", \"(('4', 'Rorb'), '490626827')\", \"(('4', 'Rorb'), '500859045')\", \"(('4', 'Rorb'), '500894271')\", \"(('4', 'Scnn1a'), '320207387')\", \"(('4', 'Scnn1a'), '323838579')\", \"(('4', 'Scnn1a'), '476266853')\", \"(('4', 'Scnn1a'), '500964358')\", \"(('4', 'Scnn1a'), '517647182')\", \"(('4', 'Vip'), '501570114')\", \"(('4', 'Vip'), '531121585')\", \"(('4', 'Vip'), '535728342')\", \"(('4', 'Vip'), '560690291')\", \"(('4', 'Vip'), '561934585')\", \"(('4', 'Vip'), '562540395')\", \"(('4', 'Pvalb'), '478793814')\", \"(('4', 'Pvalb'), '478958894')\", \"(('4', 'Pvalb'), '481127173')\", \"(('4', 'Pvalb'), '481127348')\", \"(('4', 'Pvalb'), '487405644')\", \"(('4', 'Pvalb'), '487667205')\", \"(('4', 'Pvalb'), '491038812')\", \"(('4', 'Pvalb'), '569997187')\", \"(('4', 'Pvalb'), '571314481')\", \"(('4', 'Pvalb'), '572375809')\", \"(('4', 'Pvalb'), '579414994')\", \"(('4', 'Sst'), '476099282')\", \"(('4', 'Sst'), '476753465')\", \"(('4', 'Sst'), '485061364')\", \"(('4', 'Sst'), '501280518')\", \"(('4', 'Sst'), '501282204')\", \"(('4', 'Sst'), '573622646')\", 'bkg', 'SG_001', ''])"
      ]
     },
     "execution_count": 14,
     "metadata": {},
     "output_type": "execute_result"
    }
   ],
   "source": [
    "ntx.panel_dict.keys()"
   ]
  },
  {
   "cell_type": "code",
   "execution_count": null,
   "id": "e22f027c-42cd-46b9-9588-85ff09983da8",
   "metadata": {},
   "outputs": [],
   "source": []
  }
 ],
 "metadata": {
  "kernelspec": {
   "display_name": "Python 3 (ipykernel)",
   "language": "python",
   "name": "python3"
  },
  "language_info": {
   "codemirror_mode": {
    "name": "ipython",
    "version": 3
   },
   "file_extension": ".py",
   "mimetype": "text/x-python",
   "name": "python",
   "nbconvert_exporter": "python",
   "pygments_lexer": "ipython3",
   "version": "3.10.14"
  }
 },
 "nbformat": 4,
 "nbformat_minor": 5
}
